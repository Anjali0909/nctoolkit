{
 "cells": [
  {
   "cell_type": "markdown",
   "metadata": {},
   "source": [
    "An in development Python package to manipulate netcdf files."
   ]
  },
  {
   "cell_type": "markdown",
   "metadata": {},
   "source": [
    "Goals\n",
    "\n"
   ]
  },
  {
   "cell_type": "markdown",
   "metadata": {},
   "source": [
    "# What it is not\n",
    "\n",
    "Fundamentally, this package does not provide a full interface to all of the options available within CDO and NCO. Instead, this package aims to provide functionality that will cover 80-90% of the use cases when manipulating netcdf files. This will naturally involve some judgement and will be influenced by current work needs.\n"
   ]
  },
  {
   "cell_type": "markdown",
   "metadata": {},
   "source": [
    "# System requirements\n",
    "This will require both CDO and NCO to be installed on your computer. At present the package will not work on Windows because I have not had time to rewrite the system calls."
   ]
  },
  {
   "cell_type": "markdown",
   "metadata": {},
   "source": [
    "## Introducing trackers\n",
    "\n",
    "The fundamental object of analysis in this package is a tracker. This object will store the start point of any manipulations. This will either be a single file or an ensemble of files. It will also store the current position of the manipulations. This is a single netcdf file stored in a temporary folder. In a similar vein, the package will track the history of manipulations on the terminal or within Python.\n"
   ]
  },
  {
   "cell_type": "markdown",
   "metadata": {},
   "source": [
    "## Methods supported\n",
    "\n",
    "TBC"
   ]
  }
 ],
 "metadata": {
  "kernelspec": {
   "display_name": "Python 3",
   "language": "python",
   "name": "python3"
  },
  "language_info": {
   "codemirror_mode": {
    "name": "ipython",
    "version": 3
   },
   "file_extension": ".py",
   "mimetype": "text/x-python",
   "name": "python",
   "nbconvert_exporter": "python",
   "pygments_lexer": "ipython3",
   "version": "3.7.3"
  }
 },
 "nbformat": 4,
 "nbformat_minor": 2
}
