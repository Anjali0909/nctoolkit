{
 "cells": [
  {
   "cell_type": "markdown",
   "metadata": {},
   "source": [
    "# How to guide\n",
    "This guide will show how to carry out key nchack operations. We will use a sea surface temperature data set and a depth-resolved ocean temperature data set.\n",
    "The data sets can be downloaded using wget as follows:"
   ]
  },
  {
   "cell_type": "code",
   "execution_count": null,
   "metadata": {},
   "outputs": [],
   "source": [
    "import nchack as nc\n",
    "import pandas as pd\n",
    "import xarray as xr\n"
   ]
  },
  {
   "cell_type": "code",
   "execution_count": null,
   "metadata": {},
   "outputs": [],
   "source": [
    "! wget ftp://ftp.cdc.noaa.gov/Datasets/COBE2/sst.mon.mean.nc\n",
    "clear_output()"
   ]
  },
  {
   "cell_type": "markdown",
   "metadata": {},
   "source": [
    "## How to select years and months\n",
    "If we want to select specific years and months we can use the select_years and select_months method"
   ]
  },
  {
   "cell_type": "code",
   "execution_count": null,
   "metadata": {},
   "outputs": [],
   "source": [
    "tracker = nc.open_data(\"sst.mon.mean.nc\")\n",
    "tracker.select_years(1960)\n",
    "tracker.select_months(1)\n",
    "tracker.times()"
   ]
  },
  {
   "cell_type": "markdown",
   "metadata": {},
   "source": [
    "## How to copy a data set\n",
    "If you want to make a deep copy of a data set, use the built in copy method. This method will return a new data set. Importantly, this method will also register the current state of the data set in a list of \"safe files\" that is only available to the module. This ensures that temporary files are deleted correctly. "
   ]
  },
  {
   "cell_type": "code",
   "execution_count": null,
   "metadata": {},
   "outputs": [],
   "source": [
    "tracker = nc.open_data(\"sst.mon.mean.nc\")\n",
    "tracker.select_years(1960)\n",
    "tracker.select_months(1)\n",
    "tracker1 = tracker.copy()\n",
    "del tracker\n",
    "tracker1.mean()\n",
    "tracker1.to_xarray().sst.plot()"
   ]
  },
  {
   "cell_type": "markdown",
   "metadata": {},
   "source": [
    "## How to clip to a region \n",
    "If you want to clip the data to a specific longitude and latitude box, we can use clip, with the longitude and latitude range given by lon and lat."
   ]
  },
  {
   "cell_type": "code",
   "execution_count": null,
   "metadata": {},
   "outputs": [],
   "source": [
    "tracker = nc.open_data(\"sst.mon.mean.nc\")\n",
    "tracker.clip(lon = [-80, 20], lat = [40, 70])\n",
    "tracker.to_xarray().sst.mean(dim = \"time\").plot()"
   ]
  },
  {
   "cell_type": "markdown",
   "metadata": {},
   "source": [
    "## How to rename a variable\n",
    "If we want to rename a variable we use the rename method, and supply a dictionary where the key, value pairs are the original and new names"
   ]
  },
  {
   "cell_type": "code",
   "execution_count": null,
   "metadata": {},
   "outputs": [],
   "source": [
    "tracker = nc.open_data(\"sst.mon.mean.nc\")\n",
    "tracker.variables\n",
    "tracker.rename({\"sst\": \"temperature\"})\n",
    "tracker.variables"
   ]
  },
  {
   "cell_type": "markdown",
   "metadata": {},
   "source": [
    "## How to create new variables\n",
    "New variables can be created using arithmetic operations using either mutate or transmute. The mutate method will maintain the original variables, whereas transmute will not.\n",
    "This method requires a dictionary, where the key, values pairs are the names of the new variables and the arithemtic operations to perform.\n",
    "The example below shows how to create a new variable with "
   ]
  },
  {
   "cell_type": "code",
   "execution_count": null,
   "metadata": {},
   "outputs": [],
   "source": [
    "tracker = nc.open_data(\"sst.mon.mean.nc\")\n",
    "tracker.mutate({\"sst_k\": \"sst+273.15\"})\n",
    "tracker.variables"
   ]
  },
  {
   "cell_type": "markdown",
   "metadata": {},
   "source": [
    "## How to calculate a spatial average\n",
    "You can calculate a spatial average using the spatial_mean method. There are additional methods for maximums etc."
   ]
  },
  {
   "cell_type": "code",
   "execution_count": null,
   "metadata": {},
   "outputs": [],
   "source": [
    "tracker = nc.open_data(\"sst.mon.mean.nc\")\n",
    "tracker.spatial_mean()\n",
    "tracker.to_xarray().sst.plot()"
   ]
  },
  {
   "cell_type": "markdown",
   "metadata": {},
   "source": [
    "## How to calculate an annual mean\n",
    "You can calculate an annual mean using the annual_mean method."
   ]
  },
  {
   "cell_type": "code",
   "execution_count": null,
   "metadata": {},
   "outputs": [],
   "source": [
    "tracker = nc.open_data(\"sst.mon.mean.nc\")\n",
    "tracker.spatial_mean()\n",
    "tracker.annual_mean()\n",
    "tracker.to_xarray().sst.plot()"
   ]
  },
  {
   "cell_type": "markdown",
   "metadata": {},
   "source": [
    "## How to calculate a rolling average\n",
    "You can calculate a rolling mean using the rolling_mean method, with the window argument providing the number of time steps to average over. There are additional methods for rolling sums etc.\n",
    "The code below will calculate a rolling mean of global SST using a 20 year window."
   ]
  },
  {
   "cell_type": "code",
   "execution_count": null,
   "metadata": {},
   "outputs": [],
   "source": [
    "tracker = nc.open_data(\"sst.mon.mean.nc\")\n",
    "tracker.spatial_mean()\n",
    "tracker.annual_mean()\n",
    "tracker.rolling_mean(20)\n",
    "tracker.to_xarray().sst.plot()"
   ]
  },
  {
   "cell_type": "markdown",
   "metadata": {},
   "source": [
    "## How to calculate temporal anomalies\n",
    "You can calculate annual temporal anomalies using the anomaly_annual method. This requires a baseline period."
   ]
  },
  {
   "cell_type": "code",
   "execution_count": null,
   "metadata": {},
   "outputs": [],
   "source": [
    "tracker = nc.open_data(\"sst.mon.mean.nc\")\n",
    "tracker.spatial_mean()\n",
    "tracker.annual_anomaly(baseline = list(range(1960, 1979)))\n",
    "tracker.to_xarray().anomaly.plot()"
   ]
  },
  {
   "cell_type": "markdown",
   "metadata": {},
   "source": [
    "## How to split data by year etc\n",
    "Files within a dataset can be split by year (split_year), day (split_day), year and month (split_year_month) or season (split_season). If we wanted to split by year and we can use the split_year method"
   ]
  },
  {
   "cell_type": "code",
   "execution_count": null,
   "metadata": {},
   "outputs": [],
   "source": [
    "tracker = nc.open_data(\"sst.mon.mean.nc\")\n",
    "tracker.split_year()\n",
    "tracker.size"
   ]
  },
  {
   "cell_type": "markdown",
   "metadata": {},
   "source": [
    "## How to merge files in time\n",
    "We can merge files based on time using merge_time. The code below splits the netcdf files by year and then merges them using merge_time."
   ]
  },
  {
   "cell_type": "code",
   "execution_count": null,
   "metadata": {},
   "outputs": [],
   "source": [
    "tracker = nc.open_data(\"sst.mon.mean.nc\")\n",
    "tracker.split_year()\n",
    "tracker.size\n",
    "tracker.merge_time()\n",
    "tracker.size"
   ]
  },
  {
   "cell_type": "markdown",
   "metadata": {},
   "source": [
    "## How to do variables based merging\n",
    "If we have two more more files that have the same time steps, but different variables, we can merge them using merge.\n",
    "The code below will first create a dataset with a netcdf file with sst in K, and it will then create a new dataset with this netcd file and the original, and then merge them."
   ]
  },
  {
   "cell_type": "code",
   "execution_count": null,
   "metadata": {},
   "outputs": [],
   "source": [
    "tracker1 = nc.open_data(\"sst.mon.mean.nc\")\n",
    "tracker2 = nc.open_data(\"sst.mon.mean.nc\")\n",
    "tracker2.transmute({\"sst_k\": \"sst+273.15\"})\n",
    "new_tracker = nc.open_data([tracker1.current, tracker2.current])\n",
    "new_tracker.current\n",
    "new_tracker.merge()\n",
    "new_tracker.variables"
   ]
  },
  {
   "cell_type": "markdown",
   "metadata": {},
   "source": [
    "In some cases we will have two or more datasets we want to merge. In this case we can use the merge function as follows:"
   ]
  },
  {
   "cell_type": "code",
   "execution_count": null,
   "metadata": {},
   "outputs": [],
   "source": [
    "tracker1 = nc.open_data(\"sst.mon.mean.nc\")\n",
    "tracker2 = nc.open_data(\"sst.mon.mean.nc\")\n",
    "tracker2.transmute({\"sst_k\": \"sst+273.15\"})\n",
    "new_tracker = nc.merge(tracker1, tracker2)\n",
    "new_tracker.variables"
   ]
  },
  {
   "cell_type": "markdown",
   "metadata": {},
   "source": [
    "## How to horizontally regrid data \n",
    "Variables can be regridded horizontally using regrid. This method requires the new grid to be defined. This can either be a pandas data frame, with lon/lat as columns, an xarray object, a netcdfile or a dataset.\n",
    "I will demonstrate all three methods by regridding SST to the North Atlantic.\n",
    "Let's begin by getting a grid for the North Atlantic."
   ]
  },
  {
   "cell_type": "code",
   "execution_count": null,
   "metadata": {},
   "outputs": [],
   "source": [
    "new_grid = nc.open_data(\"sst.mon.mean.nc\")\n",
    "new_grid.clip(lon = [-80, 20], lat = [30, 70])\n",
    "new_grid.select_months(1)\n",
    "new_grid.select_years( 2000)"
   ]
  },
  {
   "cell_type": "markdown",
   "metadata": {},
   "source": [
    "First, we will use the new dataset itself to do the regridding. I will calculate mean SST using the original data, and then regrid to the North Atlantic."
   ]
  },
  {
   "cell_type": "code",
   "execution_count": null,
   "metadata": {},
   "outputs": [],
   "source": [
    "%%time\n",
    "tracker = nc.open_data(\"sst.mon.mean.nc\")\n",
    "tracker.mean()\n",
    "tracker.regrid(grid = new_grid)\n",
    "tracker.to_xarray().sst.plot()"
   ]
  },
  {
   "cell_type": "markdown",
   "metadata": {},
   "source": [
    "We can also do this using the netcdf, which is new_grid.current"
   ]
  },
  {
   "cell_type": "code",
   "execution_count": null,
   "metadata": {},
   "outputs": [],
   "source": [
    "%%time\n",
    "tracker = nc.open_data(\"sst.mon.mean.nc\")\n",
    "tracker.mean()\n",
    "tracker.regrid(grid = new_grid.current)\n",
    "tracker.to_xarray().sst.plot()"
   ]
  },
  {
   "cell_type": "markdown",
   "metadata": {},
   "source": [
    "In a similar way we can read the new_grid in as an xarray data set."
   ]
  },
  {
   "cell_type": "code",
   "execution_count": null,
   "metadata": {},
   "outputs": [],
   "source": [
    "%%time\n",
    "na_grid = xr.open_dataset(new_grid.current)\n",
    "tracker = nc.open_data(\"sst.mon.mean.nc\")\n",
    "tracker.mean()\n",
    "tracker.regrid(grid = na_grid)\n",
    "tracker.to_xarray().sst.plot()"
   ]
  },
  {
   "cell_type": "markdown",
   "metadata": {},
   "source": [
    "or we can use a pandas data frame. In this case I will convert the xarray data set to a data frame."
   ]
  },
  {
   "cell_type": "code",
   "execution_count": null,
   "metadata": {},
   "outputs": [],
   "source": [
    "%%time\n",
    "na_grid = xr.open_dataset(new_grid.current)\n",
    "na_grid = na_grid.to_dataframe().reset_index().loc[:,[\"lon\", \"lat\"]]\n",
    "tracker = nc.open_data(\"sst.mon.mean.nc\")\n",
    "tracker.mean()\n",
    "tracker.regrid(grid = na_grid)\n",
    "tracker.to_xarray().sst.plot()"
   ]
  },
  {
   "cell_type": "markdown",
   "metadata": {},
   "source": [
    "## How to temporally interpolate\n",
    "Temporal interpolation can be carried out using time_interp. This method requires a start date (start) of the format YYYY/MM/DD and an end date (end), and a temporal resolution (resolution), which is either 1 day (\"daily\"), 1 week (\"weekly\"), 1 month (\"monthly\"), or 1 year (\"yearly\"). "
   ]
  },
  {
   "cell_type": "code",
   "execution_count": null,
   "metadata": {},
   "outputs": [],
   "source": [
    "tracker = nc.open_data(\"sst.mon.mean.nc\")\n",
    "tracker.time_interp(start = \"1990/01/01\", end = \"1990/12/31\", resolution = \"daily\")"
   ]
  },
  {
   "cell_type": "markdown",
   "metadata": {},
   "source": [
    "## How to calculate a monthly average from daily data\n",
    "If you have daily data, you can calculate a month average using monthly_mean. There are also methods for maximums etc."
   ]
  },
  {
   "cell_type": "code",
   "execution_count": null,
   "metadata": {},
   "outputs": [],
   "source": [
    "tracker = nc.open_data(\"sst.mon.mean.nc\")\n",
    "tracker.time_interp(start = \"1990/01/01\", end = \"1990/12/31\", resolution = \"daily\")\n",
    "tracker.monthly_mean()"
   ]
  },
  {
   "cell_type": "markdown",
   "metadata": {},
   "source": [
    "## How to calculate a monthly climatology\n",
    "CDO outputs the date of the final month."
   ]
  },
  {
   "cell_type": "code",
   "execution_count": null,
   "metadata": {},
   "outputs": [],
   "source": [
    "tracker = nc.open_data(\"sst.mon.mean.nc\")\n",
    "tracker.select_years(list(range(1990, 2000)))\n",
    "tracker.monthly_mean_climatology()\n",
    "tracker.to_xarray().sst.plot(col = \"time\", col_wrap = 3)"
   ]
  },
  {
   "cell_type": "markdown",
   "metadata": {},
   "source": [
    "## How to calculate a seasonal climatology"
   ]
  },
  {
   "cell_type": "code",
   "execution_count": null,
   "metadata": {},
   "outputs": [],
   "source": [
    "tracker = nc.open_data(\"sst.mon.mean.nc\")\n",
    "tracker.seasonal_mean_climatology()\n",
    "tracker.to_xarray().sst.plot(col = \"time\")"
   ]
  }
 ],
 "metadata": {
  "kernelspec": {
   "display_name": "Python 3",
   "language": "python",
   "name": "python3"
  },
  "language_info": {
   "codemirror_mode": {
    "name": "ipython",
    "version": 3
   },
   "file_extension": ".py",
   "mimetype": "text/x-python",
   "name": "python",
   "nbconvert_exporter": "python",
   "pygments_lexer": "ipython3",
   "version": "3.7.3"
  }
 },
 "nbformat": 4,
 "nbformat_minor": 2
}
