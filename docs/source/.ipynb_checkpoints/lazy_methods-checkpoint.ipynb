{
 "cells": [
  {
   "cell_type": "markdown",
   "metadata": {},
   "source": [
    "# Speeding up code"
   ]
  },
  {
   "cell_type": "markdown",
   "metadata": {},
   "source": [
    "## Lazy evaluation  "
   ]
  },
  {
   "cell_type": "markdown",
   "metadata": {},
   "source": [
    "Under the hood nctoolkit relies mostly on CDO to carry out the specified manipulation of netcdf files. Each time CDO is called a new temporary file is generated. This has the potential to result in slower than necessary processing chains, as IO takes up far too much time.\n",
    "\n",
    "I will demonstrate this using a netcdf file os sea surface temperature. To download the file we can just use wget:"
   ]
  },
  {
   "cell_type": "code",
   "execution_count": 1,
   "metadata": {},
   "outputs": [],
   "source": [
    "import nctoolkit as nc\n",
    "import warnings\n",
    "warnings.filterwarnings('ignore')\n",
    "from IPython.display import clear_output\n",
    "!wget ftp://ftp.cdc.noaa.gov/Datasets/COBE2/sst.mon.ltm.1981-2010.nc\n",
    "clear_output()"
   ]
  },
  {
   "cell_type": "markdown",
   "metadata": {},
   "source": [
    "We can then set up the dataset which we will use for manipulating the SST climatology."
   ]
  },
  {
   "cell_type": "code",
   "execution_count": 2,
   "metadata": {},
   "outputs": [],
   "source": [
    "ff =  \"sst.mon.ltm.1981-2010.nc\"\n",
    "sst = nc.open_data(ff)"
   ]
  },
  {
   "cell_type": "markdown",
   "metadata": {},
   "source": [
    "Now, let's select the variable sst, clip the file to the northern hemisphere, calculate the mean value in each grid cell for the first half of the year, and then calculate the spatial mean."
   ]
  },
  {
   "cell_type": "code",
   "execution_count": 3,
   "metadata": {},
   "outputs": [],
   "source": [
    "sst.select_variables(\"sst\")\n",
    "sst.clip(lat = [0,90])\n",
    "sst.select_months(list(range(1,7)))\n",
    "sst.mean()\n",
    "sst.spatial_mean()"
   ]
  },
  {
   "cell_type": "markdown",
   "metadata": {},
   "source": [
    "The dataset's history is as follows:"
   ]
  },
  {
   "cell_type": "code",
   "execution_count": 4,
   "metadata": {},
   "outputs": [
    {
     "data": {
      "text/plain": [
       "['cdo -L -selname,sst sst.mon.ltm.1981-2010.nc /tmp/nctoolkitedaceaclnctoolkittmp2j8m9i6e.nc',\n",
       " 'cdo -L  -sellonlatbox,-180,180,0,90 /tmp/nctoolkitedaceaclnctoolkittmp2j8m9i6e.nc /tmp/nctoolkitedaceaclnctoolkittmp2l4h24t5.nc',\n",
       " 'cdo -L -selmonth,1,2,3,4,5,6 /tmp/nctoolkitedaceaclnctoolkittmp2l4h24t5.nc /tmp/nctoolkitedaceaclnctoolkittmpjv4o3t3f.nc',\n",
       " 'cdo -L -timmean /tmp/nctoolkitedaceaclnctoolkittmpjv4o3t3f.nc /tmp/nctoolkitedaceaclnctoolkittmptoj7jvh2.nc',\n",
       " 'cdo -L -fldmean /tmp/nctoolkitedaceaclnctoolkittmptoj7jvh2.nc /tmp/nctoolkitedaceaclnctoolkittmpdsokvx1j.nc']"
      ]
     },
     "execution_count": 4,
     "metadata": {},
     "output_type": "execute_result"
    }
   ],
   "source": [
    "sst.history"
   ]
  },
  {
   "cell_type": "markdown",
   "metadata": {},
   "source": [
    "In total, there are 5 operations, with temporary files created each time. However, we only want to generate one temporary file. So, can we do that? Yes, thanks to CDO's method chaining ability.\n",
    "If we want to utilize this we need to set the session's evaluation to lazy, using options. Once this is done nchack will only evaluate things either when it needs to, e.g. you call a method that cannot possibly be chained, or if you release it, using release.\n",
    "This works as follows:"
   ]
  },
  {
   "cell_type": "code",
   "execution_count": 5,
   "metadata": {},
   "outputs": [],
   "source": [
    "ff =  \"sst.mon.ltm.1981-2010.nc\"\n",
    "nc.options(lazy = True)\n",
    "sst = nc.open_data(ff)\n",
    "sst.select_variables(\"sst\")\n",
    "sst.clip(lat = [0,90])\n",
    "sst.select_months(list(range(1,7)))\n",
    "sst.mean()\n",
    "sst.spatial_mean()\n",
    "sst.release()"
   ]
  },
  {
   "cell_type": "markdown",
   "metadata": {},
   "source": [
    "We can now see that the history is much cleaner, with only one command."
   ]
  },
  {
   "cell_type": "code",
   "execution_count": 6,
   "metadata": {},
   "outputs": [
    {
     "data": {
      "text/plain": [
       "['cdo -L -fldmean -timmean -selmonth,1,2,3,4,5,6  -sellonlatbox,-180,180,0,90 -selname,sst sst.mon.ltm.1981-2010.nc /tmp/nctoolkitedaceaclnctoolkittmppdjwkhw_.nc']"
      ]
     },
     "execution_count": 6,
     "metadata": {},
     "output_type": "execute_result"
    }
   ],
   "source": [
    "sst.history"
   ]
  },
  {
   "cell_type": "markdown",
   "metadata": {},
   "source": [
    "How does this impact run time? Let's time the original, unchained method."
   ]
  },
  {
   "cell_type": "code",
   "execution_count": 7,
   "metadata": {},
   "outputs": [
    {
     "name": "stdout",
     "output_type": "stream",
     "text": [
      "CPU times: user 27.3 ms, sys: 69.8 ms, total: 97.2 ms\n",
      "Wall time: 679 ms\n"
     ]
    }
   ],
   "source": [
    "%%time\n",
    "nc.options(lazy = False)\n",
    "ff =  \"sst.mon.ltm.1981-2010.nc\"\n",
    "sst = nc.open_data(ff)\n",
    "sst.select_variables(\"sst\")\n",
    "sst.clip(lat = [0,90])\n",
    "sst.select_months(list(range(1,7)))\n",
    "sst.mean()\n",
    "sst.spatial_mean()"
   ]
  },
  {
   "cell_type": "code",
   "execution_count": 8,
   "metadata": {},
   "outputs": [
    {
     "name": "stdout",
     "output_type": "stream",
     "text": [
      "CPU times: user 12.6 ms, sys: 8.28 ms, total: 20.9 ms\n",
      "Wall time: 160 ms\n"
     ]
    }
   ],
   "source": [
    "%%time\n",
    "nc.options(lazy = True)\n",
    "ff =  \"sst.mon.ltm.1981-2010.nc\"\n",
    "sst = nc.open_data(ff)\n",
    "sst.select_variables(\"sst\")\n",
    "sst.clip(lat = [0,90])\n",
    "sst.select_months(list(range(1,7)))\n",
    "sst.mean()\n",
    "sst.spatial_mean()\n",
    "sst.release()"
   ]
  },
  {
   "cell_type": "markdown",
   "metadata": {},
   "source": [
    "This was almost 4 times faster. Exact speed improvements, will of course depend on specific IO requirements, and some times using lazy evaluation will make negligible impact, but in others can make code over 10 times fasteExact speed improvements, will of course depend on specific IO requirements, and some times using lazy evaluation will make negligible impact, but in others can make code over 10 times faster."
   ]
  },
  {
   "cell_type": "markdown",
   "metadata": {},
   "source": [
    "## Processing files in parallel"
   ]
  },
  {
   "cell_type": "markdown",
   "metadata": {},
   "source": [
    "When processing a dataset made up of multiple files, it is possible carry out the processing in parallel for more or less all of the methods available in nchack. To carry out processing in parallel with 6 cores, we would use options as follows:"
   ]
  },
  {
   "cell_type": "code",
   "execution_count": 9,
   "metadata": {},
   "outputs": [],
   "source": [
    "nc.options(cores = 6)"
   ]
  },
  {
   "cell_type": "markdown",
   "metadata": {},
   "source": [
    "By default the number of cores in use is 1. Of course, this can result in you crashing your computer if the total RAM in use is excessive, so it's best practise to check RAM used with one core first."
   ]
  },
  {
   "cell_type": "markdown",
   "metadata": {},
   "source": [
    "## Using thread-safe libraries"
   ]
  },
  {
   "cell_type": "markdown",
   "metadata": {},
   "source": [
    "If the CDO installation being called by nchack is compiled with threadsafe hdf5, then you can achieve potentially significant speed ups with the following command:"
   ]
  },
  {
   "cell_type": "code",
   "execution_count": 10,
   "metadata": {},
   "outputs": [],
   "source": [
    "nc.options(thread_safe = True)"
   ]
  },
  {
   "cell_type": "markdown",
   "metadata": {},
   "source": [
    "If you are not sure, if hdf5 has been built thread safe, a simple way to find this out is to run the code below. If it fails, you can be more or less certain it is not threadsafe."
   ]
  },
  {
   "cell_type": "code",
   "execution_count": 11,
   "metadata": {},
   "outputs": [],
   "source": [
    "nc.options(lazy = True)\n",
    "nc.options(thread_safe = True)\n",
    "ff =  \"sst.mon.ltm.1981-2010.nc\"\n",
    "sst = nc.open_data(ff)\n",
    "sst.select_variables(\"sst\")\n",
    "sst.clip(lat = [0,90])\n",
    "sst.select_months(list(range(1,7)))\n",
    "sst.mean()\n",
    "sst.spatial_mean()\n",
    "sst.release()"
   ]
  }
 ],
 "metadata": {
  "kernelspec": {
   "display_name": "Python 3",
   "language": "python",
   "name": "python3"
  },
  "language_info": {
   "codemirror_mode": {
    "name": "ipython",
    "version": 3
   },
   "file_extension": ".py",
   "mimetype": "text/x-python",
   "name": "python",
   "nbconvert_exporter": "python",
   "pygments_lexer": "ipython3",
   "version": "3.6.10"
  }
 },
 "nbformat": 4,
 "nbformat_minor": 2
}
