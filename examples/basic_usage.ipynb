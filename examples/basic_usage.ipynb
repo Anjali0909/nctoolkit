{
 "cells": [
  {
   "cell_type": "markdown",
   "metadata": {},
   "source": [
    "## Introducing trackers\n",
    "\n",
    "The fundamental object of analysis in this package is a tracker. The tracker is initialized with a single netcdf file or an ensemble of files, and will keep track of any manipulations carried.\n"
   ]
  },
  {
   "cell_type": "markdown",
   "metadata": {},
   "source": [
    "# Initializing a tracker\n",
    "I will illustrate the basic usage using a climatology of global sea surface temperature from NOAA.\n",
    "We can download this using wget as follow.\n"
   ]
  },
  {
   "cell_type": "code",
   "execution_count": null,
   "metadata": {},
   "outputs": [
    {
     "name": "stdout",
     "output_type": "stream",
     "text": [
      "--2019-09-27 15:17:31--  ftp://ftp.cdc.noaa.gov/Datasets/COBE2/sst.mon.ltm.1981-2010.nc\n",
      "           => ‘sst.mon.ltm.1981-2010.nc.9’\n",
      "Resolving ftp.cdc.noaa.gov (ftp.cdc.noaa.gov)... 140.172.38.117\n",
      "Connecting to ftp.cdc.noaa.gov (ftp.cdc.noaa.gov)|140.172.38.117|:21... connected.\n",
      "Logging in as anonymous ... Logged in!\n",
      "==> SYST ... done.    ==> PWD ... done.\n",
      "==> TYPE I ... done.  ==> CWD (1) /Datasets/COBE2 ... done.\n",
      "==> SIZE sst.mon.ltm.1981-2010.nc ... 4670688\n",
      "==> PASV ... done.    ==> RETR sst.mon.ltm.1981-2010.nc ... done.\n",
      "Length: 4670688 (4.5M) (unauthoritative)\n",
      "\n",
      ".ltm.1981-2010.nc.9  82%[===============>    ]   3.68M   256KB/s    eta 3s     "
     ]
    }
   ],
   "source": [
    "from IPython.display import clear_output\n",
    "! wget ftp://ftp.cdc.noaa.gov/Datasets/COBE2/sst.mon.ltm.1981-2010.nc\n",
    "clear_output()"
   ]
  },
  {
   "cell_type": "markdown",
   "metadata": {},
   "source": [
    "The first step in any analysis will be to import nchack, which I will call nc as shorthand."
   ]
  },
  {
   "cell_type": "code",
   "execution_count": null,
   "metadata": {},
   "outputs": [],
   "source": [
    "import nchack as nc"
   ]
  },
  {
   "cell_type": "markdown",
   "metadata": {},
   "source": [
    "Under the hood nchack will generate temporary netcdf files. The package is designed to remove temp files that are no longer in use, and will automatically clean up any temporary files generated when Python closes. However, this is not 100% guaranteed to work during system crashes etc.\n",
    "\n",
    "It is therefore recommended to do a deep_clean at the start of any session to remove any leftover netcdf files that might have existed in a previous sessions. Obviously, do not run this if you have multiple instances of nchack running simultaneously."
   ]
  },
  {
   "cell_type": "code",
   "execution_count": null,
   "metadata": {},
   "outputs": [],
   "source": [
    "nc.deep_clean()"
   ]
  },
  {
   "cell_type": "markdown",
   "metadata": {},
   "source": [
    "## Creating a tracker"
   ]
  },
  {
   "cell_type": "markdown",
   "metadata": {},
   "source": [
    "We can then set up the tracker file which we will use for manipulating the SST climatology."
   ]
  },
  {
   "cell_type": "code",
   "execution_count": null,
   "metadata": {},
   "outputs": [],
   "source": [
    "ff =  \"sst.mon.ltm.1981-2010.nc\"\n",
    "tracker = nc.NCTracker(ff)"
   ]
  },
  {
   "cell_type": "markdown",
   "metadata": {},
   "source": [
    "# Accessing tracker attributes"
   ]
  },
  {
   "cell_type": "markdown",
   "metadata": {},
   "source": [
    "At this point there is very little useful information in the tracker. Essentially, all it tell us is the start file. This will always remain the same."
   ]
  },
  {
   "cell_type": "code",
   "execution_count": null,
   "metadata": {},
   "outputs": [],
   "source": [
    "tracker.start"
   ]
  },
  {
   "cell_type": "markdown",
   "metadata": {},
   "source": [
    "The current state of the tracker can be found as follows."
   ]
  },
  {
   "cell_type": "code",
   "execution_count": null,
   "metadata": {},
   "outputs": [],
   "source": [
    "tracker.current"
   ]
  },
  {
   "cell_type": "markdown",
   "metadata": {},
   "source": [
    "We tracker history as follows, which is initially empty."
   ]
  },
  {
   "cell_type": "markdown",
   "metadata": {},
   "source": [
    "A simple, but important first task when analyzing netcdf data is knowing the variables in the file. We can do this quickly by accessing the variables attribute"
   ]
  },
  {
   "cell_type": "code",
   "execution_count": null,
   "metadata": {},
   "outputs": [],
   "source": [
    "tracker.variables"
   ]
  },
  {
   "cell_type": "markdown",
   "metadata": {},
   "source": [
    "Often, we will want to know the size of a tracker. This is most relevant when we are working with multiple files. We can do this by accessing the size attribute. To speed up computations, variables and size are computed lazily."
   ]
  },
  {
   "cell_type": "code",
   "execution_count": null,
   "metadata": {},
   "outputs": [],
   "source": [
    "tracker.size"
   ]
  },
  {
   "cell_type": "markdown",
   "metadata": {},
   "source": [
    "In this case we can see that the file is 4 MB, and we are also told that there is only one file."
   ]
  },
  {
   "cell_type": "code",
   "execution_count": null,
   "metadata": {},
   "outputs": [],
   "source": [
    "# Variable selection and size"
   ]
  },
  {
   "cell_type": "markdown",
   "metadata": {},
   "source": [
    "## Variable selection and geographic clipping \n",
    "We can clip netcdf files in space or time using clip. Let's say we only cared about temperature in July for the North Atlantic. This be found very easily using the following."
   ]
  },
  {
   "cell_type": "markdown",
   "metadata": {},
   "source": [
    "netcdf files often have variables that we are not interested in. We can therefore easily select or delete variables.\n",
    "If we want to select variables we can use the select_variables method, which requires either a single variable or a list of variables. Here I will select sst."
   ]
  },
  {
   "cell_type": "code",
   "execution_count": null,
   "metadata": {},
   "outputs": [],
   "source": [
    "tracker.select_variables(\"sst\")"
   ]
  },
  {
   "cell_type": "markdown",
   "metadata": {},
   "source": [
    "We can now see that there is only one variable in the tracker"
   ]
  },
  {
   "cell_type": "code",
   "execution_count": null,
   "metadata": {},
   "outputs": [],
   "source": [
    "tracker.variables"
   ]
  },
  {
   "cell_type": "markdown",
   "metadata": {},
   "source": [
    "We can also that a temporary file has been created with only this variable in it"
   ]
  },
  {
   "cell_type": "code",
   "execution_count": null,
   "metadata": {},
   "outputs": [],
   "source": [
    "tracker.current"
   ]
  },
  {
   "cell_type": "markdown",
   "metadata": {},
   "source": [
    "If we want to clip the file geographically we can use the clip method. All we need is the longitude and latitude range. So if we wanted to clip the SST data to the North Atlantic we would do the following."
   ]
  },
  {
   "cell_type": "code",
   "execution_count": null,
   "metadata": {},
   "outputs": [],
   "source": [
    "tracker.clip(lon = [-80, 20], lat = [30, 80])"
   ]
  },
  {
   "cell_type": "markdown",
   "metadata": {},
   "source": [
    "We have now carried out some manipulations on the tracker. So, the current file has now changed."
   ]
  },
  {
   "cell_type": "markdown",
   "metadata": {},
   "source": [
    "Likewise, we now have a history to look at."
   ]
  },
  {
   "cell_type": "code",
   "execution_count": null,
   "metadata": {},
   "outputs": [],
   "source": [
    "tracker.history"
   ]
  },
  {
   "cell_type": "markdown",
   "metadata": {},
   "source": [
    "This will give us the list of CDO or NCO commands used under the hood. nchack is designed to be usable without any prior knowledge of CDO or NCO. "
   ]
  },
  {
   "cell_type": "markdown",
   "metadata": {},
   "source": [
    "## Importing a tracker in xarray\n",
    "\n",
    "xarray is a powerful netcdf manipulation tool. In fact, in some use cases it will be more computationally efficient than CDO or NCO. nchack has a built in method for reading the tracker's current state in as an xarrary format, to_xarray."
   ]
  },
  {
   "cell_type": "code",
   "execution_count": null,
   "metadata": {},
   "outputs": [],
   "source": [
    "tracker.to_xarray().sst.plot(col = \"time\", col_wrap = 3)"
   ]
  },
  {
   "cell_type": "markdown",
   "metadata": {},
   "source": [
    "## Deleting an object\n",
    "\n",
    "If we want to delete a tracker we simply use the standard python del approach. nchack has been designed so that it is constantly cleaning up the system using a simple rule: only keep temp files created if they are among the current files of trackers.\n",
    "Right now, we only have one tracker, called \"tracker\". So if we delete tracker it will also delete the current temp file from that tracker. We can see this by looking at what happens to the current state of the tracker when we delete. Right now it exists on the system. \n"
   ]
  },
  {
   "cell_type": "code",
   "execution_count": null,
   "metadata": {},
   "outputs": [],
   "source": [
    "import os\n",
    "x = tracker.current\n",
    "os.path.exists(x)"
   ]
  },
  {
   "cell_type": "markdown",
   "metadata": {},
   "source": [
    "But if we delete the tracker, it will disappear."
   ]
  },
  {
   "cell_type": "code",
   "execution_count": null,
   "metadata": {},
   "outputs": [],
   "source": [
    "del tracker\n",
    "os.path.exists(x)"
   ]
  },
  {
   "cell_type": "markdown",
   "metadata": {},
   "source": [
    "## Viewing a tracker using ncview"
   ]
  },
  {
   "cell_type": "markdown",
   "metadata": {},
   "source": [
    "One of the most popular ways to view a netcdf file is the command line tool ncview. nhack therefore has a simple wrapper around this."
   ]
  },
  {
   "cell_type": "code",
   "execution_count": null,
   "metadata": {},
   "outputs": [],
   "source": [
    "ff =  \"sst.mon.ltm.1981-2010.nc\"\n",
    "tracker = nc.NCTracker(ff)\n",
    "tracker.view()"
   ]
  },
  {
   "cell_type": "markdown",
   "metadata": {},
   "source": [
    "## Statistical operations"
   ]
  },
  {
   "cell_type": "markdown",
   "metadata": {},
   "source": [
    "nchack has a large number of built in statistical operations, largely built around the methods available in CDO."
   ]
  },
  {
   "cell_type": "markdown",
   "metadata": {},
   "source": [
    "# Time averaging\n",
    "Averaging in time is one of the most common operations required on netcdf data. nchack allows users to calculate long-term time averages, monthly climatologies, seasonal summaries and many other common statistics."
   ]
  },
  {
   "cell_type": "markdown",
   "metadata": {},
   "source": [
    "In this case we are analyzing a monthly climatology of SST. However, what we really might be interested in is the annual average. This can be calculated using the simple mean method, which will calculate the mean over all time steps."
   ]
  },
  {
   "cell_type": "code",
   "execution_count": null,
   "metadata": {},
   "outputs": [],
   "source": [
    "\n",
    "ff =  \"sst.mon.ltm.1981-2010.nc\"\n",
    "tracker = nc.NCTracker(ff)\n",
    "tracker.select_variables(\"sst\")\n",
    "tracker.mean()\n",
    "tracker.to_xarray().sst.plot()"
   ]
  },
  {
   "cell_type": "markdown",
   "metadata": {},
   "source": [
    "Instead of the annual mean, we might be interested in the range of temperatures during the year."
   ]
  },
  {
   "cell_type": "code",
   "execution_count": null,
   "metadata": {},
   "outputs": [],
   "source": [
    "ff =  \"sst.mon.ltm.1981-2010.nc\"\n",
    "tracker = nc.NCTracker(ff)\n",
    "tracker.select_variables(\"sst\")\n",
    "tracker.range()\n",
    "tracker.to_xarray().sst.plot()"
   ]
  },
  {
   "cell_type": "markdown",
   "metadata": {},
   "source": [
    "Other operations, such as maximum, minimum, and standard deviation are available."
   ]
  },
  {
   "cell_type": "markdown",
   "metadata": {},
   "source": [
    "# Spatial statistics"
   ]
  },
  {
   "cell_type": "markdown",
   "metadata": {},
   "source": [
    "Let's move on to some more advanced methods. I will illustrate these using NOAA's long-term monthly global data set of sea surface temperatures from 1850 to the present day.\n",
    "You can learn more about this data set here: https://www.esrl.noaa.gov/psd/data/gridded/data.cobe2.html.\n",
    "To download it you can use wget. This file is approximately 500 MB."
   ]
  },
  {
   "cell_type": "code",
   "execution_count": null,
   "metadata": {},
   "outputs": [],
   "source": [
    "! wget ftp://ftp.cdc.noaa.gov/Datasets/COBE2/sst.mon.mean.nc\n",
    "clear_output"
   ]
  },
  {
   "cell_type": "markdown",
   "metadata": {},
   "source": [
    "This is a long-term data set of global sea surface temperature. So, let's find out what has happened to average global sea surface temperature since 1850. Unsurprising spoiler: it has been going up.\n",
    "Let's start by setting up the tracker."
   ]
  },
  {
   "cell_type": "code",
   "execution_count": null,
   "metadata": {},
   "outputs": [],
   "source": [
    "ff =  \"sst.mon.mean.nc\"\n",
    "tracker = nc.NCTracker(ff)"
   ]
  },
  {
   "cell_type": "markdown",
   "metadata": {},
   "source": [
    "We now need to calculate the average global SST. We can do this using the spatial_mean method. This will calculate an area weighted mean for each time step."
   ]
  },
  {
   "cell_type": "code",
   "execution_count": null,
   "metadata": {},
   "outputs": [],
   "source": [
    "tracker.spatial_mean()"
   ]
  },
  {
   "cell_type": "markdown",
   "metadata": {},
   "source": [
    "We can now plot the time series of monthly global mean SST since 1850"
   ]
  },
  {
   "cell_type": "code",
   "execution_count": null,
   "metadata": {},
   "outputs": [],
   "source": [
    "tracker.to_xarray().sst.plot()"
   ]
  },
  {
   "cell_type": "markdown",
   "metadata": {},
   "source": [
    "Our time series shows that, as expected SST increased during the 20th Century. However, this figure has too much noise. We do not care about month to month variations.Instead, let's look at the rolling 20 year mean.\n",
    "To do this, we will need to first calculate an annual mean then calculated the rolling mean using a window of 20 years. Alternatively, we can just calculate a rolling mean on the initial data using a rolling mean of 20*12 = 240 months."
   ]
  },
  {
   "cell_type": "code",
   "execution_count": null,
   "metadata": {},
   "outputs": [],
   "source": [
    "ff =  \"sst.mon.mean.nc\"\n",
    "tracker = nc.NCTracker(ff)\n",
    "tracker.spatial_mean()"
   ]
  },
  {
   "cell_type": "markdown",
   "metadata": {},
   "source": [
    "To calculate the annual mean we can simply use the yearly_mean method."
   ]
  },
  {
   "cell_type": "code",
   "execution_count": null,
   "metadata": {},
   "outputs": [],
   "source": [
    "tracker.yearly_mean()"
   ]
  },
  {
   "cell_type": "markdown",
   "metadata": {},
   "source": [
    "To calculate the rolling mean, we can use rolling_mean, with window set to 20."
   ]
  },
  {
   "cell_type": "code",
   "execution_count": null,
   "metadata": {},
   "outputs": [],
   "source": [
    "tracker.rolling_mean(window = 20)"
   ]
  },
  {
   "cell_type": "code",
   "execution_count": null,
   "metadata": {},
   "outputs": [],
   "source": [
    "tracker.to_xarray().sst.plot()"
   ]
  },
  {
   "cell_type": "markdown",
   "metadata": {},
   "source": [
    "This looks much cleaner. Please note that at present nchack does not adjust the time outputs from CDO. So in this case the rolling mean is centred in the middle of the 20 year period. As nchack evolves more windowing options will be provided to users."
   ]
  }
 ],
 "metadata": {
  "kernelspec": {
   "display_name": "Python 3",
   "language": "python",
   "name": "python3"
  },
  "language_info": {
   "codemirror_mode": {
    "name": "ipython",
    "version": 3
   },
   "file_extension": ".py",
   "mimetype": "text/x-python",
   "name": "python",
   "nbconvert_exporter": "python",
   "pygments_lexer": "ipython3",
   "version": "3.7.3"
  }
 },
 "nbformat": 4,
 "nbformat_minor": 2
}
